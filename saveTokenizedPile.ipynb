{
 "cells": [
  {
   "cell_type": "markdown",
   "id": "937535a4-710d-4b55-965b-da34284afeeb",
   "metadata": {},
   "source": [
    "# Save Tokenized Pile Into Binary File"
   ]
  },
  {
   "cell_type": "markdown",
   "id": "329b21b0-4ae3-42d2-b525-3e2d0758f4bb",
   "metadata": {},
   "source": [
    "## Load Dataset"
   ]
  },
  {
   "cell_type": "code",
   "execution_count": 1,
   "id": "844a92fe-bc75-4cd1-bc70-8b271d6484e5",
   "metadata": {
    "scrolled": true,
    "tags": []
   },
   "outputs": [
    {
     "name": "stderr",
     "output_type": "stream",
     "text": [
      "/common/home/zp128/.local/lib/python3.8/site-packages/tqdm/auto.py:22: TqdmWarning: IProgress not found. Please update jupyter and ipywidgets. See https://ipywidgets.readthedocs.io/en/stable/user_install.html\n",
      "  from .autonotebook import tqdm as notebook_tqdm\n"
     ]
    }
   ],
   "source": [
    "import datasets\n",
    "from datasets import load_from_disk\n",
    "tokenized_dataset = load_from_disk(\"./tokenized_dataset/tokenized_pile\")"
   ]
  },
  {
   "cell_type": "code",
   "execution_count": 2,
   "id": "f4340215-b948-453e-9758-3f3ef74b975e",
   "metadata": {},
   "outputs": [],
   "source": [
    "it = iter(tokenized_dataset)"
   ]
  },
  {
   "cell_type": "code",
   "execution_count": null,
   "id": "a59b8e08-8b5a-41b6-942c-4be3a1a6e243",
   "metadata": {},
   "outputs": [],
   "source": [
    "next(it)"
   ]
  },
  {
   "cell_type": "markdown",
   "id": "b5510cb0-1d98-4e1b-a300-bb5acc9ca5ee",
   "metadata": {},
   "source": [
    "## Jump Over the Iterators that has been used"
   ]
  },
  {
   "cell_type": "code",
   "execution_count": null,
   "id": "73da7741-af86-422f-891b-51735e78293e",
   "metadata": {},
   "outputs": [],
   "source": [
    "it_skip = 50337498\n",
    "for i in range(0,it_skip+1):\n",
    "    next(it)"
   ]
  },
  {
   "cell_type": "markdown",
   "id": "833c92f0-80e3-47bf-a3a9-f7732b94fad8",
   "metadata": {},
   "source": [
    "## Write tokenized Dataset to the binary file"
   ]
  },
  {
   "cell_type": "code",
   "execution_count": null,
   "id": "b663f58f-7893-47d5-a237-a3a756b240c9",
   "metadata": {
    "tags": []
   },
   "outputs": [],
   "source": [
    "import numpy as np\n",
    "encodedFile = \"./pile_gpt2_test.bin\"\n",
    "encodedSeqF = open(encodedFile,'ab')\n",
    "\n",
    "buffer = []\n",
    "for i in range(it_skip+1, tokenized_dataset.num_rows):\n",
    "    tokens = next(it)['input_ids']\n",
    "    buffer.append(len(tokens))\n",
    "    buffer.extend(tokens)\n",
    "    \n",
    "    if len(buffer) > 100000000:\n",
    "        encodedSeqF.write(np.array(buffer,dtype = np.uint32).tobytes())\n",
    "        # write the list of tokens\n",
    "        buffer = []\n",
    "        print(str(i)+\"/\"+str(tokenized_dataset.num_rows))\n",
    "\n",
    "encodedSeqF.write(np.array(buffer,dtype = np.uint32).tobytes())\n",
    "encodedSeqF.close()   \n"
   ]
  },
  {
   "cell_type": "code",
   "execution_count": null,
   "id": "e88c287d-b5fd-424f-a686-7f41c7381dbf",
   "metadata": {},
   "outputs": [],
   "source": []
  }
 ],
 "metadata": {
  "kernelspec": {
   "display_name": "mistral",
   "language": "python",
   "name": "mistral"
  },
  "language_info": {
   "codemirror_mode": {
    "name": "ipython",
    "version": 3
   },
   "file_extension": ".py",
   "mimetype": "text/x-python",
   "name": "python",
   "nbconvert_exporter": "python",
   "pygments_lexer": "ipython3",
   "version": "3.8.12"
  }
 },
 "nbformat": 4,
 "nbformat_minor": 5
}

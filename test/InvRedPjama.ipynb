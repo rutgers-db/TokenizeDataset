{
 "cells": [
  {
   "cell_type": "markdown",
   "metadata": {},
   "source": [
    "# Extract the tokenized data from bin file and idx file (RedPjama)"
   ]
  },
  {
   "cell_type": "code",
   "execution_count": null,
   "metadata": {},
   "outputs": [],
   "source": [
    "import struct\n",
    "from tokenizers import Tokenizer\n",
    "tokenizer = Tokenizer.from_file(\"20B_tokenizer.json\")\n",
    "\n",
    "parent_dir = \"/research/projects/zp128/RedPajama-Data-1T/RedPajama-Data-1T/book\"\n",
    "idx_file_path = parent_dir + \"/tokenized_text_document.idx\"\n",
    "bin_file_path = parent_dir + \"/tokenized_text_document.bin\"\n",
    "\n",
    "def jaccard_similarity(list1, list2):\n",
    "    s1 = set(list1)\n",
    "    s2 = set(list2)\n",
    "    return len(s1.intersection(s2)) / len(s1.union(s2))\n",
    "\n",
    "text_1 = [];\n",
    "text_2 = [];\n",
    "# Open the files in binary mode\n",
    "with open(idx_file_path, 'rb') as idx_file, open(bin_file_path, 'rb') as bin_file:\n",
    "    # Seek to the 18th byte\n",
    "    idx_file.seek(18)\n",
    "\n",
    "    # Read 8 bytes and interpret them as a long long integer\n",
    "    N = struct.unpack('q', idx_file.read(8))[0]\n",
    "    print(f\"There are total {N} documents in this {idx_file_path}\")\n",
    "\n",
    "    # Read another 8 bytes\n",
    "    idx_file.read(8)\n",
    "     \n",
    "    cnt =0\n",
    "    for i in range(N):\n",
    "        # Read 4 bytes and interpret them as an integer\n",
    "        text_len = struct.unpack('i', idx_file.read(4))[0]\n",
    "\n",
    "        # Read the binary file\n",
    "        entity = struct.unpack(f'{text_len}H', bin_file.read(text_len * 2))\n",
    "        \n",
    "        if cnt == 109356:\n",
    "            text_1 =list(entity);\n",
    "            print(type(text_1))\n",
    "        if cnt == 116049:\n",
    "            text_2 = list(entity);\n",
    "            break\n",
    "            \n",
    "        cnt = cnt +1\n",
    "\n",
    "print(str(jaccard_similarity(text_1, text_2)))"
   ]
  },
  {
   "cell_type": "code",
   "execution_count": null,
   "metadata": {},
   "outputs": [],
   "source": [
    "print(tokenizer.decode(text_2))"
   ]
  },
  {
   "cell_type": "code",
   "execution_count": null,
   "metadata": {},
   "outputs": [],
   "source": [
    "print(tokenizer.decode(text_1))"
   ]
  }
 ],
 "metadata": {
  "language_info": {
   "name": "python"
  }
 },
 "nbformat": 4,
 "nbformat_minor": 2
}

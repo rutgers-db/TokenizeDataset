{
 "cells": [
  {
   "cell_type": "markdown",
   "id": "4913c6a5-58d9-4d5c-a9f2-6d7b26484401",
   "metadata": {},
   "source": [
    "## Get Content of Document "
   ]
  },
  {
   "cell_type": "code",
   "execution_count": null,
   "id": "bb9e4a6b-7790-409c-bea9-7e36ac5ba789",
   "metadata": {},
   "outputs": [],
   "source": [
    "import datasets\n",
    "from datasets import load_from_disk\n",
    "# load dataset\n",
    "# Choose the dataset you want to load \n",
    "tokenized_dataset = load_from_disk(\"./tokenized_dataset/tokenized_pile\")"
   ]
  },
  {
   "cell_type": "code",
   "execution_count": 2,
   "id": "d4df15dc-5956-44e0-91a1-99e828130194",
   "metadata": {},
   "outputs": [],
   "source": [
    "doc_id = 1639066\n",
    "\n",
    "# Extract tokens in dataset depending on the dataset structure\n",
    "# tokens = tokenized_dataset['train'][doc_id]['input_ids']\n",
    "tokens = tokenized_dataset[doc_id]['input_ids']"
   ]
  },
  {
   "cell_type": "code",
   "execution_count": null,
   "id": "d751b4cc-ec89-4902-ba04-d683eb6f5593",
   "metadata": {},
   "outputs": [],
   "source": [
    "from transformers import GPT2TokenizerFast\n",
    "tokenizer = GPT2TokenizerFast.from_pretrained(\"gpt2\")\n",
    "tokenizer.decode(tokens)\n",
    "print(f\"Number of tokens: {len(tokens)}\")"
   ]
  },
  {
   "cell_type": "code",
   "execution_count": 41,
   "id": "b2d04bef-6a63-4b14-a92e-f034c1d5c059",
   "metadata": {
    "tags": []
   },
   "outputs": [],
   "source": [
    "query_seq= [13,33,3219,10267,26,198,11748,8745,13,43073,13,570,578,13,39491,13,39491,13,33,3219,32634,7509,26,198,11748,8745,13,43073,13,570,578,13,39491,13,39491,13,39491,13,33,3219,32634,7509,47429,26,198,11748,8745,13,43073,13,570,578,13,39491,13,39491,13,33,3219,32634,7509,47429,13,33,]\n",
    "dup_pass = [26,198,11748,8745,13,43073,13,570,578,13,39491,13,33,3219,10267,16922,26,198,11748,8745,13,43073,13,570,578,13,39491,13,33,3219,33634,26,198,11748,8745,13,43073,13,570,578,13,39491,13,]"
   ]
  },
  {
   "cell_type": "code",
   "execution_count": 42,
   "id": "b6325117-8ca5-458d-af01-35099086d877",
   "metadata": {},
   "outputs": [
    {
     "data": {
      "text/plain": [
       "'.BinaryObject;\\nimport org.apache.ignite.binary.binary.BinarySerializer;\\nimport org.apache.ignite.binary.binary.binary.BinarySerializerHelper;\\nimport org.apache.ignite.binary.binary.BinarySerializerHelper.B'"
      ]
     },
     "execution_count": 42,
     "metadata": {},
     "output_type": "execute_result"
    }
   ],
   "source": [
    "from transformers import GPT2TokenizerFast\n",
    "tokenizer = GPT2TokenizerFast.from_pretrained(\"gpt2\")\n",
    "tokenizer.decode(query_seq)"
   ]
  },
  {
   "cell_type": "code",
   "execution_count": 43,
   "id": "8e035f18-4fdf-4725-a494-af7c13fff897",
   "metadata": {},
   "outputs": [
    {
     "data": {
      "text/plain": [
       "';\\nimport org.apache.ignite.binary.BinaryObjectException;\\nimport org.apache.ignite.binary.BinaryReader;\\nimport org.apache.ignite.binary.'"
      ]
     },
     "execution_count": 43,
     "metadata": {},
     "output_type": "execute_result"
    }
   ],
   "source": [
    "tokenizer.decode(dup_pass)"
   ]
  }
 ],
 "metadata": {
  "kernelspec": {
   "display_name": "mistral",
   "language": "python",
   "name": "mistral"
  },
  "language_info": {
   "codemirror_mode": {
    "name": "ipython",
    "version": 3
   },
   "file_extension": ".py",
   "mimetype": "text/x-python",
   "name": "python",
   "nbconvert_exporter": "python",
   "pygments_lexer": "ipython3",
   "version": "3.8.12"
  }
 },
 "nbformat": 4,
 "nbformat_minor": 5
}
